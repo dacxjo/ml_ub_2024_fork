{
 "cells": [
  {
   "cell_type": "markdown",
   "metadata": {},
   "source": [
    "# Session 1 - Your \"first\" DataScience problem"
   ]
  },
  {
   "cell_type": "code",
   "execution_count": 1,
   "metadata": {},
   "outputs": [
    {
     "data": {
      "text/html": [
       "<style>.container { width:100% !important; }</style>"
      ],
      "text/plain": [
       "<IPython.core.display.HTML object>"
      ]
     },
     "metadata": {},
     "output_type": "display_data"
    }
   ],
   "source": [
    "# some imports\n",
    "\n",
    "from IPython.core.display import display, HTML\n",
    "display(HTML(\"<style>.container { width:100% !important; }</style>\"))\n",
    "\n",
    "# Python ≥3.5 is required\n",
    "import sys\n",
    "assert sys.version_info >= (3, 5)\n",
    " \n",
    "# Scikit-Learn ≥0.20 is required\n",
    "import sklearn\n",
    "assert sklearn.__version__ >= \"0.20\"\n",
    "\n",
    "# Common imports\n",
    "import numpy as np\n",
    "import os\n",
    "\n",
    "# to make this notebook's output stable across runs\n",
    "np.random.seed(42)\n",
    "\n",
    "# To plot pretty figures\n",
    "%matplotlib inline\n",
    "import matplotlib as mpl\n",
    "import matplotlib.pyplot as plt\n",
    "mpl.rc('axes', labelsize=14)\n",
    "mpl.rc('xtick', labelsize=12)\n",
    "mpl.rc('ytick', labelsize=12)\n",
    "plt.rc('font', size=12) \n",
    "plt.rc('figure', figsize = (12, 5))\n",
    "\n",
    "# Settings for the visualizations\n",
    "import seaborn as sns\n",
    "sns.set_style(\"whitegrid\")\n",
    "sns.set_context(\"notebook\", font_scale=1, rc={\"lines.linewidth\": 2,'font.family': [u'times']})\n",
    "\n",
    "import pandas as pd\n",
    "pd.set_option('display.max_rows', 25)\n",
    "pd.set_option('display.max_columns', 500)\n",
    "pd.set_option('display.max_colwidth', 50)\n",
    "\n",
    "# Ignore useless warnings (see SciPy issue #5998)\n",
    "import warnings\n",
    "warnings.filterwarnings(action=\"ignore\", message=\"^internal gelsd\")\n",
    "\n",
    "# create output folder\n",
    "if not os.path.exists('output'):\n",
    "    os.makedirs('output')\n",
    "if not os.path.exists('output/session1'):\n",
    "    os.makedirs('output/session1')"
   ]
  },
  {
   "cell_type": "code",
   "execution_count": 2,
   "metadata": {},
   "outputs": [],
   "source": [
    "## load data\n",
    "train_set = pd.read_csv('dataset/housing-snapshot/train_set.csv',index_col=0) \n",
    "test_set = pd.read_csv('dataset/housing-snapshot/test_set.csv',index_col=0) \n"
   ]
  },
  {
   "cell_type": "markdown",
   "metadata": {},
   "source": [
    "## The problem\n",
    "The machine learning is to predict the house price, but before that it is imporntat to study the dataset and its features"
   ]
  },
  {
   "cell_type": "code",
   "execution_count": 3,
   "metadata": {},
   "outputs": [
    {
     "name": "stdout",
     "output_type": "stream",
     "text": [
      "There is 5432 samples\n",
      "Each sample has 21 features\n"
     ]
    }
   ],
   "source": [
    "# print the dataset size\n",
    "print(\"There is\", train_set.shape[0], \"samples\")\n",
    "print(\"Each sample has\", train_set.shape[1], \"features\")"
   ]
  },
  {
   "cell_type": "code",
   "execution_count": 4,
   "metadata": {},
   "outputs": [
    {
     "data": {
      "text/html": [
       "<div>\n",
       "<style scoped>\n",
       "    .dataframe tbody tr th:only-of-type {\n",
       "        vertical-align: middle;\n",
       "    }\n",
       "\n",
       "    .dataframe tbody tr th {\n",
       "        vertical-align: top;\n",
       "    }\n",
       "\n",
       "    .dataframe thead th {\n",
       "        text-align: right;\n",
       "    }\n",
       "</style>\n",
       "<table border=\"1\" class=\"dataframe\">\n",
       "  <thead>\n",
       "    <tr style=\"text-align: right;\">\n",
       "      <th></th>\n",
       "      <th>Suburb</th>\n",
       "      <th>Address</th>\n",
       "      <th>Rooms</th>\n",
       "      <th>Type</th>\n",
       "      <th>Price</th>\n",
       "      <th>Method</th>\n",
       "      <th>SellerG</th>\n",
       "      <th>Date</th>\n",
       "      <th>Distance</th>\n",
       "      <th>Postcode</th>\n",
       "      <th>Bedroom2</th>\n",
       "      <th>Bathroom</th>\n",
       "      <th>Car</th>\n",
       "      <th>Landsize</th>\n",
       "      <th>BuildingArea</th>\n",
       "      <th>YearBuilt</th>\n",
       "      <th>CouncilArea</th>\n",
       "      <th>Lattitude</th>\n",
       "      <th>Longtitude</th>\n",
       "      <th>Regionname</th>\n",
       "      <th>Propertycount</th>\n",
       "    </tr>\n",
       "    <tr>\n",
       "      <th>index</th>\n",
       "      <th></th>\n",
       "      <th></th>\n",
       "      <th></th>\n",
       "      <th></th>\n",
       "      <th></th>\n",
       "      <th></th>\n",
       "      <th></th>\n",
       "      <th></th>\n",
       "      <th></th>\n",
       "      <th></th>\n",
       "      <th></th>\n",
       "      <th></th>\n",
       "      <th></th>\n",
       "      <th></th>\n",
       "      <th></th>\n",
       "      <th></th>\n",
       "      <th></th>\n",
       "      <th></th>\n",
       "      <th></th>\n",
       "      <th></th>\n",
       "      <th></th>\n",
       "    </tr>\n",
       "  </thead>\n",
       "  <tbody>\n",
       "    <tr>\n",
       "      <th>0</th>\n",
       "      <td>Aberfeldie</td>\n",
       "      <td>241 Buckley St</td>\n",
       "      <td>4</td>\n",
       "      <td>h</td>\n",
       "      <td>1380000.0</td>\n",
       "      <td>VB</td>\n",
       "      <td>Nelson</td>\n",
       "      <td>12/08/2017</td>\n",
       "      <td>7.5</td>\n",
       "      <td>3040.0</td>\n",
       "      <td>4.0</td>\n",
       "      <td>2.0</td>\n",
       "      <td>2.0</td>\n",
       "      <td>766.0</td>\n",
       "      <td>NaN</td>\n",
       "      <td>NaN</td>\n",
       "      <td>Moonee Valley</td>\n",
       "      <td>-37.75595</td>\n",
       "      <td>144.90551</td>\n",
       "      <td>Western Metropolitan</td>\n",
       "      <td>1543.0</td>\n",
       "    </tr>\n",
       "    <tr>\n",
       "      <th>1</th>\n",
       "      <td>Northcote</td>\n",
       "      <td>67 Charles St</td>\n",
       "      <td>2</td>\n",
       "      <td>h</td>\n",
       "      <td>1100000.0</td>\n",
       "      <td>SP</td>\n",
       "      <td>Jellis</td>\n",
       "      <td>20/05/2017</td>\n",
       "      <td>5.5</td>\n",
       "      <td>3070.0</td>\n",
       "      <td>2.0</td>\n",
       "      <td>1.0</td>\n",
       "      <td>1.0</td>\n",
       "      <td>189.0</td>\n",
       "      <td>NaN</td>\n",
       "      <td>NaN</td>\n",
       "      <td>Darebin</td>\n",
       "      <td>-37.77670</td>\n",
       "      <td>144.99240</td>\n",
       "      <td>Northern Metropolitan</td>\n",
       "      <td>11364.0</td>\n",
       "    </tr>\n",
       "    <tr>\n",
       "      <th>2</th>\n",
       "      <td>Balwyn North</td>\n",
       "      <td>42 Maud St</td>\n",
       "      <td>3</td>\n",
       "      <td>h</td>\n",
       "      <td>1480000.0</td>\n",
       "      <td>PI</td>\n",
       "      <td>Jellis</td>\n",
       "      <td>15/10/2016</td>\n",
       "      <td>9.2</td>\n",
       "      <td>3104.0</td>\n",
       "      <td>3.0</td>\n",
       "      <td>1.0</td>\n",
       "      <td>4.0</td>\n",
       "      <td>605.0</td>\n",
       "      <td>116.0</td>\n",
       "      <td>1950.0</td>\n",
       "      <td>Boroondara</td>\n",
       "      <td>-37.79510</td>\n",
       "      <td>145.06960</td>\n",
       "      <td>Southern Metropolitan</td>\n",
       "      <td>7809.0</td>\n",
       "    </tr>\n",
       "    <tr>\n",
       "      <th>3</th>\n",
       "      <td>Brunswick</td>\n",
       "      <td>13 Percy St</td>\n",
       "      <td>3</td>\n",
       "      <td>h</td>\n",
       "      <td>1055000.0</td>\n",
       "      <td>S</td>\n",
       "      <td>Nelson</td>\n",
       "      <td>7/05/2016</td>\n",
       "      <td>5.2</td>\n",
       "      <td>3056.0</td>\n",
       "      <td>3.0</td>\n",
       "      <td>1.0</td>\n",
       "      <td>1.0</td>\n",
       "      <td>324.0</td>\n",
       "      <td>NaN</td>\n",
       "      <td>1930.0</td>\n",
       "      <td>Moreland</td>\n",
       "      <td>-37.76530</td>\n",
       "      <td>144.95860</td>\n",
       "      <td>Northern Metropolitan</td>\n",
       "      <td>11918.0</td>\n",
       "    </tr>\n",
       "    <tr>\n",
       "      <th>4</th>\n",
       "      <td>Templestowe Lower</td>\n",
       "      <td>253 Thompsons Rd</td>\n",
       "      <td>4</td>\n",
       "      <td>h</td>\n",
       "      <td>1000000.0</td>\n",
       "      <td>VB</td>\n",
       "      <td>hockingstuart</td>\n",
       "      <td>13/08/2016</td>\n",
       "      <td>13.8</td>\n",
       "      <td>3107.0</td>\n",
       "      <td>4.0</td>\n",
       "      <td>3.0</td>\n",
       "      <td>2.0</td>\n",
       "      <td>728.0</td>\n",
       "      <td>164.0</td>\n",
       "      <td>1970.0</td>\n",
       "      <td>Manningham</td>\n",
       "      <td>-37.76800</td>\n",
       "      <td>145.10270</td>\n",
       "      <td>Eastern Metropolitan</td>\n",
       "      <td>5420.0</td>\n",
       "    </tr>\n",
       "  </tbody>\n",
       "</table>\n",
       "</div>"
      ],
      "text/plain": [
       "                  Suburb           Address  Rooms Type      Price Method  \\\n",
       "index                                                                      \n",
       "0             Aberfeldie    241 Buckley St      4    h  1380000.0     VB   \n",
       "1              Northcote     67 Charles St      2    h  1100000.0     SP   \n",
       "2           Balwyn North        42 Maud St      3    h  1480000.0     PI   \n",
       "3              Brunswick       13 Percy St      3    h  1055000.0      S   \n",
       "4      Templestowe Lower  253 Thompsons Rd      4    h  1000000.0     VB   \n",
       "\n",
       "             SellerG        Date  Distance  Postcode  Bedroom2  Bathroom  Car  \\\n",
       "index                                                                           \n",
       "0             Nelson  12/08/2017       7.5    3040.0       4.0       2.0  2.0   \n",
       "1             Jellis  20/05/2017       5.5    3070.0       2.0       1.0  1.0   \n",
       "2             Jellis  15/10/2016       9.2    3104.0       3.0       1.0  4.0   \n",
       "3             Nelson   7/05/2016       5.2    3056.0       3.0       1.0  1.0   \n",
       "4      hockingstuart  13/08/2016      13.8    3107.0       4.0       3.0  2.0   \n",
       "\n",
       "       Landsize  BuildingArea  YearBuilt    CouncilArea  Lattitude  \\\n",
       "index                                                                \n",
       "0         766.0           NaN        NaN  Moonee Valley  -37.75595   \n",
       "1         189.0           NaN        NaN        Darebin  -37.77670   \n",
       "2         605.0         116.0     1950.0     Boroondara  -37.79510   \n",
       "3         324.0           NaN     1930.0       Moreland  -37.76530   \n",
       "4         728.0         164.0     1970.0     Manningham  -37.76800   \n",
       "\n",
       "       Longtitude             Regionname  Propertycount  \n",
       "index                                                    \n",
       "0       144.90551   Western Metropolitan         1543.0  \n",
       "1       144.99240  Northern Metropolitan        11364.0  \n",
       "2       145.06960  Southern Metropolitan         7809.0  \n",
       "3       144.95860  Northern Metropolitan        11918.0  \n",
       "4       145.10270   Eastern Metropolitan         5420.0  "
      ]
     },
     "execution_count": 4,
     "metadata": {},
     "output_type": "execute_result"
    }
   ],
   "source": [
    "# print the top elements from the dataset\n",
    "train_set.head()"
   ]
  },
  {
   "cell_type": "code",
   "execution_count": 5,
   "metadata": {},
   "outputs": [],
   "source": [
    "# As it can be seen the database contains several features, some of them numerical and some of them are categorical.\n",
    "# It is important to check each of the to understand it."
   ]
  },
  {
   "cell_type": "code",
   "execution_count": 6,
   "metadata": {},
   "outputs": [
    {
     "data": {
      "text/plain": [
       "Suburb            object\n",
       "Address           object\n",
       "Rooms              int64\n",
       "Type              object\n",
       "Price            float64\n",
       "Method            object\n",
       "SellerG           object\n",
       "Date              object\n",
       "Distance         float64\n",
       "Postcode         float64\n",
       "Bedroom2         float64\n",
       "Bathroom         float64\n",
       "Car              float64\n",
       "Landsize         float64\n",
       "BuildingArea     float64\n",
       "YearBuilt        float64\n",
       "CouncilArea       object\n",
       "Lattitude        float64\n",
       "Longtitude       float64\n",
       "Regionname        object\n",
       "Propertycount    float64\n",
       "dtype: object"
      ]
     },
     "execution_count": 6,
     "metadata": {},
     "output_type": "execute_result"
    }
   ],
   "source": [
    "# we can see the type of each features as follows\n",
    "train_set.dtypes"
   ]
  },
  {
   "cell_type": "code",
   "execution_count": 7,
   "metadata": {},
   "outputs": [
    {
     "data": {
      "text/html": [
       "<div>\n",
       "<style scoped>\n",
       "    .dataframe tbody tr th:only-of-type {\n",
       "        vertical-align: middle;\n",
       "    }\n",
       "\n",
       "    .dataframe tbody tr th {\n",
       "        vertical-align: top;\n",
       "    }\n",
       "\n",
       "    .dataframe thead th {\n",
       "        text-align: right;\n",
       "    }\n",
       "</style>\n",
       "<table border=\"1\" class=\"dataframe\">\n",
       "  <thead>\n",
       "    <tr style=\"text-align: right;\">\n",
       "      <th></th>\n",
       "      <th>Suburb</th>\n",
       "      <th>Address</th>\n",
       "      <th>Type</th>\n",
       "      <th>Method</th>\n",
       "      <th>SellerG</th>\n",
       "      <th>Date</th>\n",
       "      <th>CouncilArea</th>\n",
       "      <th>Regionname</th>\n",
       "    </tr>\n",
       "    <tr>\n",
       "      <th>index</th>\n",
       "      <th></th>\n",
       "      <th></th>\n",
       "      <th></th>\n",
       "      <th></th>\n",
       "      <th></th>\n",
       "      <th></th>\n",
       "      <th></th>\n",
       "      <th></th>\n",
       "    </tr>\n",
       "  </thead>\n",
       "  <tbody>\n",
       "    <tr>\n",
       "      <th>0</th>\n",
       "      <td>Aberfeldie</td>\n",
       "      <td>241 Buckley St</td>\n",
       "      <td>h</td>\n",
       "      <td>VB</td>\n",
       "      <td>Nelson</td>\n",
       "      <td>12/08/2017</td>\n",
       "      <td>Moonee Valley</td>\n",
       "      <td>Western Metropolitan</td>\n",
       "    </tr>\n",
       "    <tr>\n",
       "      <th>1</th>\n",
       "      <td>Northcote</td>\n",
       "      <td>67 Charles St</td>\n",
       "      <td>h</td>\n",
       "      <td>SP</td>\n",
       "      <td>Jellis</td>\n",
       "      <td>20/05/2017</td>\n",
       "      <td>Darebin</td>\n",
       "      <td>Northern Metropolitan</td>\n",
       "    </tr>\n",
       "    <tr>\n",
       "      <th>2</th>\n",
       "      <td>Balwyn North</td>\n",
       "      <td>42 Maud St</td>\n",
       "      <td>h</td>\n",
       "      <td>PI</td>\n",
       "      <td>Jellis</td>\n",
       "      <td>15/10/2016</td>\n",
       "      <td>Boroondara</td>\n",
       "      <td>Southern Metropolitan</td>\n",
       "    </tr>\n",
       "    <tr>\n",
       "      <th>3</th>\n",
       "      <td>Brunswick</td>\n",
       "      <td>13 Percy St</td>\n",
       "      <td>h</td>\n",
       "      <td>S</td>\n",
       "      <td>Nelson</td>\n",
       "      <td>7/05/2016</td>\n",
       "      <td>Moreland</td>\n",
       "      <td>Northern Metropolitan</td>\n",
       "    </tr>\n",
       "    <tr>\n",
       "      <th>4</th>\n",
       "      <td>Templestowe Lower</td>\n",
       "      <td>253 Thompsons Rd</td>\n",
       "      <td>h</td>\n",
       "      <td>VB</td>\n",
       "      <td>hockingstuart</td>\n",
       "      <td>13/08/2016</td>\n",
       "      <td>Manningham</td>\n",
       "      <td>Eastern Metropolitan</td>\n",
       "    </tr>\n",
       "  </tbody>\n",
       "</table>\n",
       "</div>"
      ],
      "text/plain": [
       "                  Suburb           Address Type Method        SellerG  \\\n",
       "index                                                                   \n",
       "0             Aberfeldie    241 Buckley St    h     VB         Nelson   \n",
       "1              Northcote     67 Charles St    h     SP         Jellis   \n",
       "2           Balwyn North        42 Maud St    h     PI         Jellis   \n",
       "3              Brunswick       13 Percy St    h      S         Nelson   \n",
       "4      Templestowe Lower  253 Thompsons Rd    h     VB  hockingstuart   \n",
       "\n",
       "             Date    CouncilArea             Regionname  \n",
       "index                                                    \n",
       "0      12/08/2017  Moonee Valley   Western Metropolitan  \n",
       "1      20/05/2017        Darebin  Northern Metropolitan  \n",
       "2      15/10/2016     Boroondara  Southern Metropolitan  \n",
       "3       7/05/2016       Moreland  Northern Metropolitan  \n",
       "4      13/08/2016     Manningham   Eastern Metropolitan  "
      ]
     },
     "execution_count": 7,
     "metadata": {},
     "output_type": "execute_result"
    }
   ],
   "source": [
    "# print those categorical features\n",
    "train_set.select_dtypes(include=['object']).head()"
   ]
  },
  {
   "cell_type": "code",
   "execution_count": 8,
   "metadata": {},
   "outputs": [
    {
     "data": {
      "text/plain": [
       "h    3765\n",
       "u    1191\n",
       "t     476\n",
       "Name: Type, dtype: int64"
      ]
     },
     "execution_count": 8,
     "metadata": {},
     "output_type": "execute_result"
    }
   ],
   "source": [
    "# We can check how many different type there is in the dataset using the folliwing line\n",
    "train_set[\"Type\"].value_counts()"
   ]
  },
  {
   "cell_type": "code",
   "execution_count": 9,
   "metadata": {},
   "outputs": [
    {
     "data": {
      "text/plain": [
       "<AxesSubplot:xlabel='count', ylabel='Type'>"
      ]
     },
     "execution_count": 9,
     "metadata": {},
     "output_type": "execute_result"
    },
    {
     "data": {
      "image/png": "[encoded data removed]",
      "text/plain": [
       "<Figure size 864x360 with 1 Axes>"
      ]
     },
     "metadata": {},
     "output_type": "display_data"
    }
   ],
   "source": [
    "sns.countplot(y=\"Type\", data=train_set, color=\"c\")"
   ]
  },
  {
   "cell_type": "markdown",
   "metadata": {},
   "source": [
    "It would be interesting to visualize all features (numerical and catergorical) in order to undertand them.\n",
    "\n",
    "Check out this blog for plotting distribution: https://seaborn.pydata.org/tutorial/distributions.html\n",
    "+ Seaborn version of this blog can be different from the one intalled in your machine (version 0.11 has been just realeased)\n",
    "\n",
    "Check out this blog for plotting categorical data: https://seaborn.pydata.org/tutorial/categorical.html"
   ]
  },
  {
   "cell_type": "code",
   "execution_count": 11,
   "metadata": {},
   "outputs": [
    {
     "data": {
      "image/png": "[encoded data removed]",
      "text/plain": [
       "<Figure size 864x360 with 1 Axes>"
      ]
     },
     "metadata": {},
     "output_type": "display_data"
    }
   ],
   "source": [
    "sns.histplot(train_set[\"Price\"])\n",
    "plt.show()"
   ]
  },
  {
   "cell_type": "markdown",
   "metadata": {},
   "source": [
    "## BASELINE MODEL\n",
    "### https://www.kaggle.com/t/b02bcc4763e14d0486715e7c8bc946fe\n",
    "\n",
    "This is a simple model that uses the K-nearest Neighbors Regressor\n",
    "\n",
    "This model only uses 4 feaures: 'Rooms','Landsize', 'BuildingArea', 'YearBuilt'"
   ]
  },
  {
   "cell_type": "code",
   "execution_count": 12,
   "metadata": {},
   "outputs": [
    {
     "name": "stdout",
     "output_type": "stream",
     "text": [
      "----- EVALUATION ON TRAIN SET ------\n",
      "RMSE 397813.8038017269\n",
      "R^2:  0.6219552116625728\n"
     ]
    },
    {
     "data": {
      "image/png": "[encoded data removed]",
      "text/plain": [
       "<Figure size 864x360 with 1 Axes>"
      ]
     },
     "metadata": {},
     "output_type": "display_data"
    }
   ],
   "source": [
    "## the features\n",
    "\n",
    "features = ['Rooms','Landsize', 'BuildingArea', 'YearBuilt']\n",
    "## DEFINE YOUR FEATURES\n",
    "X = train_set[features].fillna(0)\n",
    "y = train_set[['Price']]\n",
    "\n",
    "## the model\n",
    "# KNeighborsRegressor\n",
    "from sklearn import neighbors\n",
    "n_neighbors = 3 # you can modify this paramenter (ONLY THIS ONE!!!)\n",
    "model = neighbors.KNeighborsRegressor(n_neighbors)\n",
    "\n",
    "## fit the model\n",
    "model.fit(X, y)\n",
    "\n",
    "## predict training set\n",
    "y_pred = model.predict(X)\n",
    "\n",
    "## Evaluate the model and plot it\n",
    "from sklearn.metrics import mean_squared_error, r2_score\n",
    "print(\"----- EVALUATION ON TRAIN SET ------\")\n",
    "print(\"RMSE\",np.sqrt(mean_squared_error(y, y_pred)))\n",
    "print(\"R^2: \",r2_score(y, y_pred))\n",
    "\n",
    "\n",
    "plt.scatter(y, y_pred)\n",
    "plt.xlabel('Price')\n",
    "plt.ylabel('Predicted price');\n",
    "plt.show()\n",
    "\n",
    "## predict the test set and generate the submission file\n",
    "X_test = test_set[features].fillna(0)\n",
    "y_pred = model.predict(X_test)\n",
    "\n",
    "df_output = pd.DataFrame(y_pred)\n",
    "df_output = df_output.reset_index()\n",
    "df_output.columns = ['index','Price']\n",
    "\n",
    "df_output.to_csv('output/session1/baseline.csv',index=False)"
   ]
  },
  {
   "cell_type": "markdown",
   "metadata": {},
   "source": [
    "## EXERCICE - TRAIN A MODEL and upload your best solution to the Kaggle Challenge\n",
    "\n",
    "Tasks: \n",
    "+ Choose the best features for the problem. Some features are numercial but others categorical, think how to codify all of them.\n",
    "+ Choose the model. You have two choice: LinearRegression and KNeighborsRegressor\n",
    "    + You can chanege the paramenter n_neighbors from the KNeighborsRegressor\n",
    "    \n",
    "LINEAR REGRESSOR:\n",
    ">from sklearn.linear_model import LinearRegression\n",
    "\n",
    ">model = LinearRegression()\n",
    "\n",
    "KNeighborsRegressor\n",
    "> from sklearn import neighbors\n",
    "\n",
    "> n_neighbors = 3 # you can modify this paramenter (ONLY THIS ONE!!!)\n",
    "\n",
    "> model = neighbors.KNeighborsRegressor(n_neighbors=n_neighbors)\n"
   ]
  },
  {
   "cell_type": "code",
   "execution_count": 13,
   "metadata": {},
   "outputs": [],
   "source": [
    "## the features\n",
    "\n",
    "## the model\n",
    "\n",
    "## fit the model\n",
    "\n",
    "## predict training set\n",
    "\n",
    "## Evaluate the model and plot it\n",
    "\n",
    "## predict the test set and generate the submission file"
   ]
  },
  {
   "cell_type": "markdown",
   "metadata": {},
   "source": [
    "Explain the choosed model and why you think that is is the best"
   ]
  },
  {
   "cell_type": "code",
   "execution_count": null,
   "metadata": {},
   "outputs": [],
   "source": []
  }
 ],
 "metadata": {
  "kernelspec": {
   "display_name": "Python 3 (ipykernel)",
   "language": "python",
   "name": "python3"
  },
  "language_info": {
   "codemirror_mode": {
    "name": "ipython",
    "version": 3
   },
   "file_extension": ".py",
   "mimetype": "text/x-python",
   "name": "python",
   "nbconvert_exporter": "python",
   "pygments_lexer": "ipython3",
   "version": "3.11.7"
  }
 },
 "nbformat": 4,
 "nbformat_minor": 4
}
